{
  "cells": [
    {
      "cell_type": "markdown",
      "metadata": {
        "id": "view-in-github",
        "colab_type": "text"
      },
      "source": [
        "<a href=\"https://colab.research.google.com/github/Thivya700/Demo/blob/main/app.ipynb\" target=\"_parent\"><img src=\"https://colab.research.google.com/assets/colab-badge.svg\" alt=\"Open In Colab\"/></a>"
      ]
    },
    {
      "cell_type": "code",
      "execution_count": 1,
      "metadata": {
        "colab": {
          "base_uri": "https://localhost:8080/"
        },
        "id": "eAI43fFG_MQs",
        "outputId": "db735e4d-c0d7-48c6-914e-14a28580d0b5"
      },
      "outputs": [
        {
          "output_type": "stream",
          "name": "stdout",
          "text": [
            "Requirement already satisfied: pyngrok==4.1.1 in /usr/local/lib/python3.10/dist-packages (4.1.1)\n",
            "Requirement already satisfied: future in /usr/local/lib/python3.10/dist-packages (from pyngrok==4.1.1) (0.18.3)\n",
            "Requirement already satisfied: PyYAML in /usr/local/lib/python3.10/dist-packages (from pyngrok==4.1.1) (6.0.1)\n",
            "Requirement already satisfied: flask-ngrok in /usr/local/lib/python3.10/dist-packages (0.0.25)\n",
            "Requirement already satisfied: Flask>=0.8 in /usr/local/lib/python3.10/dist-packages (from flask-ngrok) (2.2.5)\n",
            "Requirement already satisfied: requests in /usr/local/lib/python3.10/dist-packages (from flask-ngrok) (2.31.0)\n",
            "Requirement already satisfied: Werkzeug>=2.2.2 in /usr/local/lib/python3.10/dist-packages (from Flask>=0.8->flask-ngrok) (3.0.1)\n",
            "Requirement already satisfied: Jinja2>=3.0 in /usr/local/lib/python3.10/dist-packages (from Flask>=0.8->flask-ngrok) (3.1.2)\n",
            "Requirement already satisfied: itsdangerous>=2.0 in /usr/local/lib/python3.10/dist-packages (from Flask>=0.8->flask-ngrok) (2.1.2)\n",
            "Requirement already satisfied: click>=8.0 in /usr/local/lib/python3.10/dist-packages (from Flask>=0.8->flask-ngrok) (8.1.7)\n",
            "Requirement already satisfied: charset-normalizer<4,>=2 in /usr/local/lib/python3.10/dist-packages (from requests->flask-ngrok) (3.3.2)\n",
            "Requirement already satisfied: idna<4,>=2.5 in /usr/local/lib/python3.10/dist-packages (from requests->flask-ngrok) (3.4)\n",
            "Requirement already satisfied: urllib3<3,>=1.21.1 in /usr/local/lib/python3.10/dist-packages (from requests->flask-ngrok) (2.0.7)\n",
            "Requirement already satisfied: certifi>=2017.4.17 in /usr/local/lib/python3.10/dist-packages (from requests->flask-ngrok) (2023.7.22)\n",
            "Requirement already satisfied: MarkupSafe>=2.0 in /usr/local/lib/python3.10/dist-packages (from Jinja2>=3.0->Flask>=0.8->flask-ngrok) (2.1.3)\n",
            "Authtoken saved to configuration file: /root/.ngrok2/ngrok.yml\n"
          ]
        }
      ],
      "source": [
        "!pip install pyngrok==4.1.1\n",
        "!pip install flask-ngrok\n",
        "!ngrok authtoken '2XYJrp9BOVMzD0aJ3oCDTanr1vr_5s5d52jWcqnfkbZpcyBM9'"
      ]
    },
    {
      "cell_type": "code",
      "execution_count": 7,
      "metadata": {
        "colab": {
          "base_uri": "https://localhost:8080/"
        },
        "id": "RXV5n3i3_QVL",
        "outputId": "6114e553-f222-4f58-c61b-bd97d16cdf06"
      },
      "outputs": [
        {
          "output_type": "stream",
          "name": "stdout",
          "text": [
            "Drive already mounted at /content/drive; to attempt to forcibly remount, call drive.mount(\"/content/drive\", force_remount=True).\n",
            " * Serving Flask app '__main__'\n",
            " * Debug mode: off\n"
          ]
        },
        {
          "output_type": "stream",
          "name": "stderr",
          "text": [
            "INFO:werkzeug:\u001b[31m\u001b[1mWARNING: This is a development server. Do not use it in a production deployment. Use a production WSGI server instead.\u001b[0m\n",
            " * Running on http://127.0.0.1:5000\n",
            "INFO:werkzeug:\u001b[33mPress CTRL+C to quit\u001b[0m\n"
          ]
        },
        {
          "output_type": "stream",
          "name": "stdout",
          "text": [
            " * Running on http://e1ff-34-106-60-90.ngrok-free.app\n",
            " * Traffic stats available on http://127.0.0.1:4040\n"
          ]
        },
        {
          "output_type": "stream",
          "name": "stderr",
          "text": [
            "INFO:werkzeug:127.0.0.1 - - [22/Nov/2023 04:38:02] \"GET / HTTP/1.1\" 200 -\n",
            "INFO:werkzeug:127.0.0.1 - - [22/Nov/2023 04:38:03] \"\u001b[33mGET /favicon.ico HTTP/1.1\u001b[0m\" 404 -\n",
            "INFO:werkzeug:127.0.0.1 - - [22/Nov/2023 04:38:24] \"GET /get_form_pe HTTP/1.1\" 200 -\n",
            "INFO:werkzeug:127.0.0.1 - - [22/Nov/2023 04:38:29] \"POST /process_pe HTTP/1.1\" 200 -\n",
            "INFO:werkzeug:127.0.0.1 - - [22/Nov/2023 04:38:40] \"GET /list_student HTTP/1.1\" 200 -\n",
            "INFO:werkzeug:127.0.0.1 - - [22/Nov/2023 04:39:08] \"\u001b[32mGET /add_student/Thivya%20Java HTTP/1.1\u001b[0m\" 308 -\n",
            "INFO:werkzeug:127.0.0.1 - - [22/Nov/2023 04:39:09] \"\u001b[32mGET /add_student/Thivya%20Java/ HTTP/1.1\u001b[0m\" 302 -\n",
            "INFO:werkzeug:127.0.0.1 - - [22/Nov/2023 04:39:09] \"GET /list_student HTTP/1.1\" 200 -\n",
            "INFO:werkzeug:127.0.0.1 - - [22/Nov/2023 04:39:35] \"\u001b[32mGET /delete_student/Thivya%20Java HTTP/1.1\u001b[0m\" 302 -\n",
            "INFO:werkzeug:127.0.0.1 - - [22/Nov/2023 04:39:35] \"GET /list_student HTTP/1.1\" 200 -\n",
            "INFO:werkzeug:127.0.0.1 - - [22/Nov/2023 04:39:50] \"GET /find_student/Modi HTTP/1.1\" 200 -\n"
          ]
        }
      ],
      "source": [
        "from flask import Flask, render_template, request, redirect\n",
        "from flask_ngrok import run_with_ngrok\n",
        "\n",
        "#mount drive\n",
        "from google.colab import drive\n",
        "drive.mount('/content/drive')\n",
        "\n",
        "import sys\n",
        "sys.path.append('/content/drive/MyDrive/Colab Notebooks/myproject')\n",
        "from model import students\n",
        "import os\n",
        "\n",
        "templates_folder = '/content/drive/MyDrive/Colab Notebooks/myproject/templates'\n",
        "static_folder = '/content/drive/MyDrive/Colab Notebooks/myproject/static'\n",
        "\n",
        "app = Flask(__name__, template_folder=templates_folder,static_folder=static_folder)\n",
        "run_with_ngrok(app)\n",
        "\n",
        "@app.route(\"/\")\n",
        "def hello_world():\n",
        "  return render_template(\"home.html\")\n",
        "\n",
        "@app.route(\"/contact\")\n",
        "def contact():\n",
        "  return render_template(\"contact.html\")\n",
        "\n",
        "@app.route(\"/hi/<name>\")\n",
        "def hi(name):\n",
        "  return render_template(\"hi.html\",name=name)\n",
        "\n",
        "@app.route(\"/get_form\")\n",
        "def get_form():\n",
        "  return render_template(\"get_form.html\")\n",
        "\n",
        "@app.route(\"/process\", methods=['GET','POST'])\n",
        "def process():\n",
        "  mass = request.form['mass']\n",
        "  velocity = request.form['velocity']\n",
        "  ke = 0.5 * float(mass) * float(velocity) ** 2\n",
        "  return render_template(\"result.html\",ke=ke)\n",
        "\n",
        "@app.route(\"/get_form_pe\")\n",
        "def get_form_pe():\n",
        "  return render_template(\"get_form2.html\")\n",
        "\n",
        "@app.route(\"/process_pe\", methods= ['GET', 'POST'])\n",
        "def process_pe():\n",
        "  mass = request.form['mass']\n",
        "  gravity = request.form['gravity']\n",
        "  height = request.form['height']\n",
        "  pe = float(mass) * float (gravity) * float(height)\n",
        "  return render_template(\"result2.html\", pe=pe)\n",
        "\n",
        "@app.route(\"/list_student\")\n",
        "def list_student():\n",
        "    return render_template(\"list_student.html\",students=students)\n",
        "\n",
        "@app.route(\"/add_student/<info>/\")\n",
        "def add_student(info):\n",
        "  info = info.split()\n",
        "  students.append(info)\n",
        "  return redirect('/list_student')\n",
        "\n",
        "@app.route(\"/delete_student/<info>\")\n",
        "def delete_student(info):\n",
        "  info = info.split()\n",
        "  students.remove(info)\n",
        "  return redirect(\"/list_student\")\n",
        "\n",
        "@app.route(\"/find_student/<name>\")\n",
        "def find_student(name):\n",
        "    for student in students:\n",
        "        if name == student[0]:\n",
        "            return (name)\n",
        "    return 'Record not found'\n",
        "\n",
        "\n",
        "app.run()"
      ]
    }
  ],
  "metadata": {
    "colab": {
      "provenance": [],
      "mount_file_id": "1lt6HKBgpWOgNuk9HPA8EOcGKZEBiNgcu",
      "authorship_tag": "ABX9TyNq86m5pBOW5aUoAm5veYnO",
      "include_colab_link": true
    },
    "kernelspec": {
      "display_name": "Python 3",
      "name": "python3"
    },
    "language_info": {
      "name": "python"
    }
  },
  "nbformat": 4,
  "nbformat_minor": 0
}